{
 "cells": [
  {
   "cell_type": "markdown",
   "metadata": {},
   "source": []
  },
  {
   "cell_type": "code",
   "execution_count": null,
   "metadata": {},
   "outputs": [],
   "source": [
    "a = '''Format the response as follows:\\n\\n**Summary:**\\n- **Title:** [Bug Title]\\n- **Description:** [Short summary of the issue]\\n- **Platform:** [OS & Browser Details]\\n- **Steps to Reproduce:**\\n  1. [Step 1]\\n  2. [Step 2]\\n  3. [Step 3]\\n\\n**Categorization:**\\n- **Bug Type:** [UI/UX | Functionality | Performance | Security | Compatibility]\\n- **Possible Cause (if inferred):** [Potential reason for the bug]\\n- **Suggested Fix or Next Steps:** [What should be done next]\\n\\nHere is the JSON bug report:'''"
   ]
  },
  {
   "cell_type": "code",
   "execution_count": 1,
   "metadata": {},
   "outputs": [
    {
     "name": "stdout",
     "output_type": "stream",
     "text": [
      "Format the response as follows:\n",
      "\n",
      "**Summary:**\n",
      "- **Title:** [Bug Title]\n",
      "- **Description:** [Short summary of the issue]\n",
      "- **Platform:** [OS & Browser Details]\n",
      "- **Steps to Reproduce:**\n",
      "  1. [Step 1]\n",
      "  2. [Step 2]\n",
      "  3. [Step 3]\n",
      "\n",
      "**Categorization:**\n",
      "- **Bug Type:** [UI/UX | Functionality | Performance | Security | Compatibility]\n",
      "- **Possible Cause (if inferred):** [Potential reason for the bug]\n",
      "- **Suggested Fix or Next Steps:** [What should be done next]\n",
      "\n",
      "Here is the JSON bug report:\n"
     ]
    }
   ],
   "source": [
    "a = '''Format the response as follows:\\n\\n**Summary:**\\n- **Title:** [Bug Title]\\n- **Description:** [Short summary of the issue]\\n- **Platform:** [OS & Browser Details]\\n- **Steps to Reproduce:**\\n  1. [Step 1]\\n  2. [Step 2]\\n  3. [Step 3]\\n\\n**Categorization:**\\n- **Bug Type:** [UI/UX | Functionality | Performance | Security | Compatibility]\\n- **Possible Cause (if inferred):** [Potential reason for the bug]\\n- **Suggested Fix or Next Steps:** [What should be done next]\\n\\nHere is the JSON bug report:'''\n",
    "\n",
    "print(a)"
   ]
  },
  {
   "cell_type": "code",
   "execution_count": null,
   "metadata": {},
   "outputs": [],
   "source": []
  }
 ],
 "metadata": {
  "kernelspec": {
   "display_name": "huynguyen_env",
   "language": "python",
   "name": "python3"
  },
  "language_info": {
   "codemirror_mode": {
    "name": "ipython",
    "version": 3
   },
   "file_extension": ".py",
   "mimetype": "text/x-python",
   "name": "python",
   "nbconvert_exporter": "python",
   "pygments_lexer": "ipython3",
   "version": "3.12.7"
  }
 },
 "nbformat": 4,
 "nbformat_minor": 2
}
